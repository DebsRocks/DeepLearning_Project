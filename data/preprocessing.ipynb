{
 "cells": [
  {
   "cell_type": "code",
   "execution_count": null,
   "metadata": {},
   "outputs": [],
   "source": [
    "#following code will concatenate english files together and spanish files together"
   ]
  },
  {
   "cell_type": "code",
   "execution_count": 10,
   "metadata": {},
   "outputs": [],
   "source": [
    "import fileinput"
   ]
  },
  {
   "cell_type": "code",
   "execution_count": 11,
   "metadata": {},
   "outputs": [],
   "source": [
    "filenames = ['en-es-Books.txt/Books.en-es.en', 'en-es-ECB-bank.txt/ECB.en-es.en', 'en-es-TED.txt/TED2013.en-es.en']\n",
    "outfilename = 'concatenated.en'\n",
    "with open(outfilename, 'w') as fout, fileinput.input(filenames) as fin:\n",
    "    for line in fin:\n",
    "        fout.write(line)"
   ]
  },
  {
   "cell_type": "code",
   "execution_count": 12,
   "metadata": {},
   "outputs": [],
   "source": [
    "filenames = ['en-es-Books.txt/Books.en-es.es', 'en-es-ECB-bank.txt/ECB.en-es.es', 'en-es-TED.txt/TED2013.en-es.es']\n",
    "outfilename = 'concatenated.es'\n",
    "with open(outfilename, 'w') as fout, fileinput.input(filenames) as fin:\n",
    "    for line in fin:\n",
    "        fout.write(line)"
   ]
  },
  {
   "cell_type": "code",
   "execution_count": null,
   "metadata": {},
   "outputs": [],
   "source": [
    "#code to remove duplicates for both english and spanish file"
   ]
  },
  {
   "cell_type": "code",
   "execution_count": 15,
   "metadata": {},
   "outputs": [],
   "source": [
    "import hashlib\n",
    "\n",
    "#1\n",
    "output_file_path = \"new_concatenated.en\"\n",
    "input_file_path = \"concatenated.en\"\n",
    "\n",
    "#2\n",
    "completed_lines_hash = set()\n",
    "\n",
    "#3\n",
    "output_file = open(output_file_path, \"w\")\n",
    "\n",
    "#4\n",
    "for line in open(input_file_path, \"r\"):\n",
    "  #5\n",
    "  hashValue = hashlib.md5(line.rstrip().encode('utf-8')).hexdigest()\n",
    "  #6\n",
    "  if hashValue not in completed_lines_hash:\n",
    "    output_file.write(line)\n",
    "    completed_lines_hash.add(hashValue)\n",
    "#7\n",
    "output_file.close()"
   ]
  },
  {
   "cell_type": "code",
   "execution_count": 16,
   "metadata": {},
   "outputs": [],
   "source": [
    "import hashlib\n",
    "\n",
    "#1\n",
    "output_file_path = \"new_concatenated.es\"\n",
    "input_file_path = \"concatenated.es\"\n",
    "\n",
    "#2\n",
    "completed_lines_hash = set()\n",
    "\n",
    "#3\n",
    "output_file = open(output_file_path, \"w\")\n",
    "\n",
    "#4\n",
    "for line in open(input_file_path, \"r\"):\n",
    "  #5\n",
    "  hashValue = hashlib.md5(line.rstrip().encode('utf-8')).hexdigest()\n",
    "  #6\n",
    "  if hashValue not in completed_lines_hash:\n",
    "    output_file.write(line)\n",
    "    completed_lines_hash.add(hashValue)\n",
    "#7\n",
    "output_file.close()"
   ]
  },
  {
   "cell_type": "code",
   "execution_count": 5,
   "metadata": {},
   "outputs": [],
   "source": [
    "import unicodedata\n",
    "import re\n",
    "\n",
    "def unicode_to_ascii(s):\n",
    "  return ''.join(c for c in unicodedata.normalize('NFD', s)\n",
    "                 if unicodedata.category(c) != 'Mn')\n",
    "def preprocess_sentence(w):\n",
    "  w = unicode_to_ascii(w.lower().strip())\n",
    "\n",
    "  # creating a space between a word and the punctuation following it\n",
    "  # eg: \"he is a boy.\" => \"he is a boy .\"\n",
    "  # Reference:- https://stackoverflow.com/questions/3645931/python-padding-punctuation-with-white-spaces-keeping-punctuation\n",
    "  w = re.sub(r\"([?.!,¿])\", r\" \\1 \", w)\n",
    "  w = re.sub(r'[\" \"]+', \" \", w)\n",
    "\n",
    "  # replacing everything with space except (a-z, A-Z, \".\", \"?\", \"!\", \",\")\n",
    "  w = re.sub(r\"[^a-zA-Z?.!,¿]+\", \" \", w)\n",
    "\n",
    "  w = w.strip()\n",
    "\n",
    "  # adding a start and an end token to the sentence\n",
    "  # so that the model know when to start and stop predicting.\n",
    "  w = '<start> ' + w + ' <end>'\n",
    "  return w\n",
    "\n",
    "file1 = open('concatenated.es', 'r')\n",
    "Lines = file1.readlines()\n",
    "for line in Lines:\n",
    "    preprocess_sentence(line)"
   ]
  },
  {
   "cell_type": "code",
   "execution_count": 6,
   "metadata": {},
   "outputs": [],
   "source": [
    "file2 = open('concatenated.en', 'r')\n",
    "Lines = file2.readlines()\n",
    "for line in Lines:\n",
    "    preprocess_sentence(line)"
   ]
  },
  {
   "cell_type": "code",
   "execution_count": null,
   "metadata": {},
   "outputs": [],
   "source": [
    "#shuffle sentences keeping them parallel in both files"
   ]
  },
  {
   "cell_type": "code",
   "execution_count": 2,
   "metadata": {},
   "outputs": [],
   "source": [
    "import random\n",
    "# make files to lists\n",
    "\n",
    "with open('concatenated.en') as en_file:\n",
    "    content_list_en = list(en_file)\n",
    "#content_list_en = en_file.readlines()\n",
    "en_file.close()\n",
    "\n",
    "\n",
    "with open('concatenated.es') as es_file:\n",
    "    content_list_es = list(es_file)\n",
    "es_file.close()\n",
    "\n",
    "shuffled_en = []\n",
    "shuffled_es = []\n",
    "\n",
    "#shuffle together\n",
    "temp = list(zip(content_list_en, content_list_es))\n",
    "random.shuffle(temp)\n",
    "shuffled_en, shuffled_es = zip(*temp)\n",
    "\n",
    "# write into new files containing shuffled content\n",
    "file_en = open(\"shuffled_en.txt\",'w')\n",
    "for ele in shuffled_en:\n",
    "    file_en.write(ele+'\\n')\n",
    "file_en.close()\n",
    "\n",
    "file_es = open(\"shuffled_es.txt\",'w')\n",
    "for ele in shuffled_es:\n",
    "    file_es.write(ele+'\\n')\n",
    "file_es.close()\n"
   ]
  },
  {
   "cell_type": "code",
   "execution_count": null,
   "metadata": {},
   "outputs": [],
   "source": [
    "#split the text into training, testing"
   ]
  },
  {
   "cell_type": "code",
   "execution_count": 9,
   "metadata": {},
   "outputs": [],
   "source": [
    "with open(\"suffled_en.txt\") as fp: \n",
    "    data = fp.read() \n",
    "out1 = open('train-split-en.txt', 'w') \n",
    "out2 = open('test-split-en.txt', 'w') \n",
    "halfway = len(data) // 2 \n",
    "out1.write(data[0:halfway]) \n",
    "out2.write(data[halfway+1:]) \n",
    "out1.close() \n",
    "out2.close() "
   ]
  },
  {
   "cell_type": "code",
   "execution_count": 10,
   "metadata": {},
   "outputs": [],
   "source": [
    "with open(\"suffled_es.txt\") as fp: \n",
    "    data = fp.read() \n",
    "out1 = open('train-split-es.txt', 'w') \n",
    "out2 = open('test-split-es.txt', 'w') \n",
    "halfway = len(data) // 2 \n",
    "out1.write(data[0:halfway]) \n",
    "out2.write(data[halfway+1:]) \n",
    "out1.close() \n",
    "out2.close() "
   ]
  },
  {
   "cell_type": "code",
   "execution_count": null,
   "metadata": {},
   "outputs": [],
   "source": [
    "#subword Segmentation for never before seen words - if we have time"
   ]
  },
  {
   "cell_type": "code",
   "execution_count": null,
   "metadata": {},
   "outputs": [],
   "source": [
    "#Text normalization : remove format variation\n",
    "#capitalize same way"
   ]
  },
  {
   "cell_type": "code",
   "execution_count": null,
   "metadata": {},
   "outputs": [],
   "source": []
  },
  {
   "cell_type": "code",
   "execution_count": null,
   "metadata": {},
   "outputs": [],
   "source": []
  }
 ],
 "metadata": {
  "kernelspec": {
   "display_name": "Python 3",
   "language": "python",
   "name": "python3"
  },
  "language_info": {
   "codemirror_mode": {
    "name": "ipython",
    "version": 3
   },
   "file_extension": ".py",
   "mimetype": "text/x-python",
   "name": "python",
   "nbconvert_exporter": "python",
   "pygments_lexer": "ipython3",
   "version": "3.7.4"
  }
 },
 "nbformat": 4,
 "nbformat_minor": 2
}
